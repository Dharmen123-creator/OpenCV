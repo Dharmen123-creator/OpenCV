{
  "nbformat": 4,
  "nbformat_minor": 0,
  "metadata": {
    "colab": {
      "name": "Reading Video from WebCam and displaying it.ipynb",
      "provenance": []
    },
    "kernelspec": {
      "name": "python3",
      "display_name": "Python 3"
    }
  },
  "cells": [
    {
      "cell_type": "code",
      "metadata": {
        "id": "2-fF--lACL3t",
        "colab_type": "code",
        "colab": {}
      },
      "source": [
        "import cv2\n",
        "\n",
        "video = cv2.videoCapture(0)\n",
        "while(True):\n",
        "  ret, frame = video.read()\n",
        "  gray = cv2.cvtColor(frame, cv2.COLOR_BGR2GRAY)\n",
        "  cv2.imshow('result', gray)\n",
        "  cv2.waitKey(0)\n",
        "  if waitKey(27) == 33\n",
        "  break\n",
        "\n",
        "cv2.destroyAllWindows()\n"
      ],
      "execution_count": 3,
      "outputs": []
    }
  ]
}