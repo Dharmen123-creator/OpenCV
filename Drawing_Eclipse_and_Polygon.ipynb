{
  "nbformat": 4,
  "nbformat_minor": 0,
  "metadata": {
    "colab": {
      "name": "Drawing Eclipse and Polygon.ipynb",
      "provenance": [],
      "authorship_tag": "ABX9TyOd5vOu97LfZXWzgW2la3bh",
      "include_colab_link": true
    },
    "kernelspec": {
      "name": "python3",
      "display_name": "Python 3"
    }
  },
  "cells": [
    {
      "cell_type": "markdown",
      "metadata": {
        "id": "view-in-github",
        "colab_type": "text"
      },
      "source": [
        "<a href=\"https://colab.research.google.com/github/Dharmen123-creator/OpenCV/blob/master/Drawing_Eclipse_and_Polygon.ipynb\" target=\"_parent\"><img src=\"https://colab.research.google.com/assets/colab-badge.svg\" alt=\"Open In Colab\"/></a>"
      ]
    },
    {
      "cell_type": "code",
      "metadata": {
        "id": "7kYnDAk1mH8h",
        "colab_type": "code",
        "colab": {
          "base_uri": "https://localhost:8080/",
          "height": 268
        },
        "outputId": "06a2648b-d4c9-4f80-ca0b-de9fa2f7ef29"
      },
      "source": [
        "import cv2\n",
        "import numpy as np\n",
        "from matplotlib import pyplot as plt\n",
        "\n",
        "img = np.ones((600,600,3), dtype = 'uint8' )*255\n",
        "a = img.copy()\n",
        "\n",
        "plt.imshow(img)\n",
        "plt.show()\n"
      ],
      "execution_count": 8,
      "outputs": [
        {
          "output_type": "display_data",
          "data": {
            "image/png": "[encoded data removed]",
            "text/plain": [
              "<Figure size 432x288 with 1 Axes>"
            ]
          },
          "metadata": {
            "tags": [],
            "needs_background": "light"
          }
        }
      ]
    },
    {
      "cell_type": "code",
      "metadata": {
        "id": "BVE4F17RoKdH",
        "colab_type": "code",
        "colab": {
          "base_uri": "https://localhost:8080/",
          "height": 268
        },
        "outputId": "1488fcbb-08dd-4368-aec1-a39c0f5cdaf3"
      },
      "source": [
        "b = img.copy()\n",
        "\n",
        "(x,y) = (int(img.shape[1]/2), int(img.shape[0]/2))\n",
        "\n",
        "ellipse = cv2.ellipse(b, (x,y), (200,100), 0, 0, 360, (0,0,255), 9)\n",
        "\n",
        "plt.imshow(ellipse)\n",
        "plt.show()"
      ],
      "execution_count": 12,
      "outputs": [
        {
          "output_type": "display_data",
          "data": {
            "image/png": "[encoded data removed]",
            "text/plain": [
              "<Figure size 432x288 with 1 Axes>"
            ]
          },
          "metadata": {
            "tags": [],
            "needs_background": "light"
          }
        }
      ]
    },
    {
      "cell_type": "code",
      "metadata": {
        "id": "Fr_E-aAYrbsM",
        "colab_type": "code",
        "colab": {
          "base_uri": "https://localhost:8080/",
          "height": 268
        },
        "outputId": "73accda8-9c8d-4202-8a2c-1650b02a5174"
      },
      "source": [
        "c = img.copy()\n",
        "\n",
        "img = np.zeros((400,400,3), dtype = 'uint8')\n",
        "\n",
        "pentagon = np.array([[[50,180], [100,150], [200,160], [160,240], [80,240]]], np.int32)\n",
        "\n",
        "pent = cv2.polylines(img, [pentagon], True, (0,255,0), 10)\n",
        "\n",
        "plt.imshow(pent)\n",
        "plt.show()"
      ],
      "execution_count": 13,
      "outputs": [
        {
          "output_type": "display_data",
          "data": {
            "image/png": "[encoded data removed]",
            "text/plain": [
              "<Figure size 432x288 with 1 Axes>"
            ]
          },
          "metadata": {
            "tags": [],
            "needs_background": "light"
          }
        }
      ]
    }
  ]
}